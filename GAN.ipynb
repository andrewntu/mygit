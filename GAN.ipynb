{
 "cells": [
  {
   "cell_type": "markdown",
   "metadata": {},
   "source": [
    "# 訓練 GAN"
   ]
  },
  {
   "cell_type": "code",
   "execution_count": 1,
   "metadata": {},
   "outputs": [
    {
     "name": "stdout",
     "output_type": "stream",
     "text": [
      "pygame 1.9.6\n",
      "Hello from the pygame community. https://www.pygame.org/contribute.html\n"
     ]
    },
    {
     "name": "stderr",
     "output_type": "stream",
     "text": [
      "D:\\python_sys\\envs\\tensorflow\\lib\\site-packages\\pydub\\utils.py:165: RuntimeWarning: Couldn't find ffmpeg or avconv - defaulting to ffmpeg, but may not work\n",
      "  warn(\"Couldn't find ffmpeg or avconv - defaulting to ffmpeg, but may not work\", RuntimeWarning)\n",
      "D:\\python_sys\\envs\\tensorflow\\lib\\site-packages\\h5py\\__init__.py:36: FutureWarning: Conversion of the second argument of issubdtype from `float` to `np.floating` is deprecated. In future, it will be treated as `np.float64 == np.dtype(float).type`.\n",
      "  from ._conv import register_converters as _register_converters\n"
     ]
    }
   ],
   "source": [
    "import numpy as np\n",
    "import matplotlib.pyplot as plt\n",
    "import pypianoroll\n",
    "import pygame\n",
    "import os\n",
    "from mido import MidiFile\n",
    "import wave\n",
    "import pylab as pl\n",
    "import glob\n",
    "from pydub import AudioSegment\n",
    "from pydub.utils import make_chunks\n",
    "import tensorflow as tf"
   ]
  },
  {
   "cell_type": "code",
   "execution_count": 58,
   "metadata": {},
   "outputs": [
    {
     "name": "stderr",
     "output_type": "stream",
     "text": [
      "D:\\python_sys\\envs\\tensorflow\\lib\\site-packages\\ipykernel_launcher.py:8: DeprecationWarning: The binary mode of fromstring is deprecated, as it behaves surprisingly on unicode inputs. Use frombuffer instead\n",
      "  \n"
     ]
    }
   ],
   "source": [
    "wave_data = []\n",
    "for data in glob.glob('canon/*ch*.wav'):\n",
    "    f = wave.open(data, \"rb\")\n",
    "    params = f.getparams()\n",
    "    nchannels, sampwidth, framerate, nframes = params[:4]\n",
    "    str_data = f.readframes(nframes)\n",
    "    f.close()\n",
    "    wavedata = np.fromstring(str_data, dtype=np.short)\n",
    "    wavedata.shape = -1, 2\n",
    "    wavedata = wavedata.T\n",
    "    wave_data.append(wavedata[0])\n",
    "    wave_data.append(wavedata[1])\n",
    "# time = np.arange(0, nframes) * (1.0 / framerate)\n",
    "# pl.subplot(211) \n",
    "# pl.plot(time, wave_data[0])\n",
    "# pl.subplot(212) \n",
    "# pl.plot(time, wave_data[1], c=\"g\")\n",
    "# pl.xlabel(\"time (seconds)\")\n",
    "# pl.show()"
   ]
  },
  {
   "cell_type": "code",
   "execution_count": 59,
   "metadata": {
    "scrolled": false
   },
   "outputs": [
    {
     "name": "stdout",
     "output_type": "stream",
     "text": [
      "(37200, 441)\n"
     ]
    },
    {
     "data": {
      "text/plain": [
       "[<matplotlib.lines.Line2D at 0x226e740e278>]"
      ]
     },
     "execution_count": 59,
     "metadata": {},
     "output_type": "execute_result"
    },
    {
     "data": {
      "image/png": "[encoded data removed]",
      "text/plain": [
       "<Figure size 432x288 with 1 Axes>"
      ]
     },
     "metadata": {},
     "output_type": "display_data"
    }
   ],
   "source": [
    "wave_data = np.array(wave_data)\n",
    "print(wave_data.shape)\n",
    "plt.plot(wave_data[0])"
   ]
  },
  {
   "cell_type": "code",
   "execution_count": 151,
   "metadata": {},
   "outputs": [],
   "source": [
    "import keras\n",
    "from keras.layers import Dense, Dropout, Input,BatchNormalization,Conv1D,Activation,Reshape,Flatten\n",
    "from keras.models import Model,Sequential\n",
    "from tqdm import tqdm\n",
    "from keras.optimizers import Adam,SGD\n",
    "from sklearn.model_selection import train_test_split"
   ]
  },
  {
   "cell_type": "code",
   "execution_count": 152,
   "metadata": {},
   "outputs": [],
   "source": [
    "def adam_optimizer():\n",
    "    return Adam(lr=0.0002, beta_1=0.5)"
   ]
  },
  {
   "cell_type": "code",
   "execution_count": 173,
   "metadata": {},
   "outputs": [
    {
     "name": "stdout",
     "output_type": "stream",
     "text": [
      "_________________________________________________________________\n",
      "Layer (type)                 Output Shape              Param #   \n",
      "=================================================================\n",
      "input_51 (InputLayer)        (None, 10)                0         \n",
      "_________________________________________________________________\n",
      "dense_307 (Dense)            (None, 200)               2200      \n",
      "_________________________________________________________________\n",
      "activation_6 (Activation)    (None, 200)               0         \n",
      "_________________________________________________________________\n",
      "dense_308 (Dense)            (None, 441)               88641     \n",
      "=================================================================\n",
      "Total params: 90,841\n",
      "Trainable params: 90,841\n",
      "Non-trainable params: 0\n",
      "_________________________________________________________________\n"
     ]
    }
   ],
   "source": [
    "def get_generative(G_in, dense_dim=200, out_dim=441, lr=1e-3):\n",
    "    x = Dense(dense_dim)(G_in)\n",
    "    x = Activation('tanh')(x)\n",
    "    G_out = Dense(out_dim, activation='tanh')(x)\n",
    "    G = Model(G_in, G_out)\n",
    "#     opt = SGD(lr=lr)\n",
    "    G.compile(loss='binary_crossentropy', optimizer='adam')\n",
    "    return G, G_out\n",
    "G_in = Input(shape=[10])\n",
    "G, G_out = get_generative(G_in)\n",
    "G.summary()"
   ]
  },
  {
   "cell_type": "code",
   "execution_count": 176,
   "metadata": {},
   "outputs": [
    {
     "name": "stdout",
     "output_type": "stream",
     "text": [
      "_________________________________________________________________\n",
      "Layer (type)                 Output Shape              Param #   \n",
      "=================================================================\n",
      "input_54 (InputLayer)        (None, 441)               0         \n",
      "_________________________________________________________________\n",
      "reshape_7 (Reshape)          (None, 441, 1)            0         \n",
      "_________________________________________________________________\n",
      "conv1d_7 (Conv1D)            (None, 437, 32)           192       \n",
      "_________________________________________________________________\n",
      "conv1d_8 (Conv1D)            (None, 435, 64)           6208      \n",
      "_________________________________________________________________\n",
      "flatten_6 (Flatten)          (None, 27840)             0         \n",
      "_________________________________________________________________\n",
      "dense_311 (Dense)            (None, 32)                890912    \n",
      "_________________________________________________________________\n",
      "dropout_81 (Dropout)         (None, 32)                0         \n",
      "_________________________________________________________________\n",
      "dense_312 (Dense)            (None, 2)                 66        \n",
      "=================================================================\n",
      "Total params: 897,378\n",
      "Trainable params: 897,378\n",
      "Non-trainable params: 0\n",
      "_________________________________________________________________\n"
     ]
    }
   ],
   "source": [
    "def get_discriminative(D_in, lr=1e-3, drate=.25, n_channels=32, conv_sz=5, leak=.2):\n",
    "    x = Reshape((-1, 1))(D_in)\n",
    "    x = Conv1D(n_channels, conv_sz, activation='relu')(x)\n",
    "#     x = Dropout(drate)(x)\n",
    "    x = Conv1D(64, 3, activation='relu')(x)\n",
    "#     x = Dropout(drate)(x)\n",
    "    x = Flatten()(x)\n",
    "    x = Dense(n_channels)(x)\n",
    "    x = Dropout(0.5)(x)\n",
    "    D_out = Dense(2, activation='sigmoid')(x)\n",
    "    D = Model(D_in, D_out)\n",
    "    dopt = Adam(lr=lr)\n",
    "    D.compile(loss='binary_crossentropy', optimizer=dopt)\n",
    "    return D, D_out\n",
    "\n",
    "D_in = Input(shape=[441])\n",
    "D, D_out = get_discriminative(D_in)\n",
    "D.summary()"
   ]
  },
  {
   "cell_type": "code",
   "execution_count": 179,
   "metadata": {},
   "outputs": [
    {
     "name": "stdout",
     "output_type": "stream",
     "text": [
      "Epoch 1/1\n",
      "20000/20000 [==============================] - ETA: 6:39 - loss: 5.714 - ETA: 3:28 - loss: 6.742 - ETA: 2:24 - loss: 7.320 - ETA: 1:52 - loss: 7.662 - ETA: 1:33 - loss: 7.787 - ETA: 1:20 - loss: 7.618 - ETA: 1:10 - loss: 7.711 - ETA: 1:04 - loss: 7.874 - ETA: 58s - loss: 8.057 - ETA: 54s - loss: 8.14 - ETA: 50s - loss: 8.17 - ETA: 47s - loss: 8.10 - ETA: 45s - loss: 8.05 - ETA: 42s - loss: 8.03 - ETA: 40s - loss: 7.99 - ETA: 39s - loss: 8.06 - ETA: 37s - loss: 8.06 - ETA: 36s - loss: 8.01 - ETA: 35s - loss: 8.02 - ETA: 33s - loss: 8.06 - ETA: 32s - loss: 8.06 - ETA: 31s - loss: 8.05 - ETA: 31s - loss: 8.02 - ETA: 30s - loss: 8.04 - ETA: 29s - loss: 8.06 - ETA: 28s - loss: 8.03 - ETA: 28s - loss: 8.03 - ETA: 27s - loss: 8.02 - ETA: 27s - loss: 8.03 - ETA: 26s - loss: 8.01 - ETA: 25s - loss: 8.02 - ETA: 25s - loss: 8.04 - ETA: 24s - loss: 8.04 - ETA: 24s - loss: 8.05 - ETA: 24s - loss: 8.03 - ETA: 23s - loss: 8.05 - ETA: 23s - loss: 8.04 - ETA: 22s - loss: 8.06 - ETA: 22s - loss: 8.06 - ETA: 22s - loss: 8.07 - ETA: 21s - loss: 8.02 - ETA: 21s - loss: 8.00 - ETA: 20s - loss: 8.01 - ETA: 20s - loss: 8.02 - ETA: 20s - loss: 8.00 - ETA: 20s - loss: 8.00 - ETA: 19s - loss: 8.02 - ETA: 19s - loss: 8.03 - ETA: 19s - loss: 8.02 - ETA: 18s - loss: 8.01 - ETA: 18s - loss: 8.02 - ETA: 18s - loss: 8.00 - ETA: 18s - loss: 8.01 - ETA: 17s - loss: 8.00 - ETA: 17s - loss: 8.00 - ETA: 17s - loss: 8.01 - ETA: 17s - loss: 8.02 - ETA: 16s - loss: 8.02 - ETA: 16s - loss: 8.00 - ETA: 16s - loss: 8.00 - ETA: 16s - loss: 7.99 - ETA: 15s - loss: 8.00 - ETA: 15s - loss: 7.98 - ETA: 15s - loss: 7.99 - ETA: 15s - loss: 7.98 - ETA: 15s - loss: 7.97 - ETA: 14s - loss: 7.96 - ETA: 14s - loss: 7.94 - ETA: 14s - loss: 7.95 - ETA: 14s - loss: 7.94 - ETA: 14s - loss: 7.95 - ETA: 13s - loss: 7.95 - ETA: 13s - loss: 7.95 - ETA: 13s - loss: 7.95 - ETA: 13s - loss: 7.94 - ETA: 13s - loss: 7.94 - ETA: 12s - loss: 7.94 - ETA: 12s - loss: 7.94 - ETA: 12s - loss: 7.95 - ETA: 12s - loss: 7.95 - ETA: 12s - loss: 7.95 - ETA: 12s - loss: 7.96 - ETA: 11s - loss: 7.96 - ETA: 11s - loss: 7.96 - ETA: 11s - loss: 7.95 - ETA: 11s - loss: 7.96 - ETA: 11s - loss: 7.97 - ETA: 10s - loss: 7.96 - ETA: 10s - loss: 7.96 - ETA: 10s - loss: 7.97 - ETA: 10s - loss: 7.97 - ETA: 10s - loss: 7.97 - ETA: 10s - loss: 7.97 - ETA: 9s - loss: 7.9806 - ETA: 9s - loss: 7.986 - ETA: 9s - loss: 7.995 - ETA: 9s - loss: 7.998 - ETA: 9s - loss: 8.008 - ETA: 8s - loss: 8.014 - ETA: 8s - loss: 8.010 - ETA: 8s - loss: 8.000 - ETA: 8s - loss: 8.001 - ETA: 8s - loss: 7.990 - ETA: 8s - loss: 7.985 - ETA: 7s - loss: 7.986 - ETA: 7s - loss: 7.985 - ETA: 7s - loss: 7.990 - ETA: 7s - loss: 7.992 - ETA: 7s - loss: 7.985 - ETA: 7s - loss: 7.991 - ETA: 7s - loss: 7.988 - ETA: 6s - loss: 7.995 - ETA: 6s - loss: 7.991 - ETA: 6s - loss: 7.980 - ETA: 6s - loss: 7.982 - ETA: 6s - loss: 7.983 - ETA: 6s - loss: 7.978 - ETA: 5s - loss: 7.977 - ETA: 5s - loss: 7.990 - ETA: 5s - loss: 7.984 - ETA: 5s - loss: 7.976 - ETA: 5s - loss: 7.980 - ETA: 5s - loss: 7.987 - ETA: 5s - loss: 7.980 - ETA: 4s - loss: 7.975 - ETA: 4s - loss: 7.975 - ETA: 4s - loss: 7.974 - ETA: 4s - loss: 7.973 - ETA: 4s - loss: 7.973 - ETA: 4s - loss: 7.974 - ETA: 3s - loss: 7.984 - ETA: 3s - loss: 7.977 - ETA: 3s - loss: 7.974 - ETA: 3s - loss: 7.975 - ETA: 3s - loss: 7.976 - ETA: 3s - loss: 7.969 - ETA: 2s - loss: 7.975 - ETA: 2s - loss: 7.978 - ETA: 2s - loss: 7.979 - ETA: 2s - loss: 7.982 - ETA: 2s - loss: 7.994 - ETA: 2s - loss: 7.989 - ETA: 2s - loss: 8.004 - ETA: 1s - loss: 8.000 - ETA: 1s - loss: 8.004 - ETA: 1s - loss: 8.001 - ETA: 1s - loss: 7.997 - ETA: 1s - loss: 8.011 - ETA: 1s - loss: 8.005 - ETA: 0s - loss: 8.000 - ETA: 0s - loss: 7.997 - ETA: 0s - loss: 7.999 - ETA: 0s - loss: 7.996 - ETA: 0s - loss: 7.998 - ETA: 0s - loss: 7.997 - ETA: 0s - loss: 7.996 - 24s 1ms/step - loss: 7.9996\n"
     ]
    }
   ],
   "source": [
    "def sample_data_and_gen(G, noise_dim=10, n_samples=10000):\n",
    "    XT = wave_data[0:n_samples]\n",
    "    XN_noise = np.random.uniform(0, 1, size=[n_samples, noise_dim])\n",
    "    XN = G.predict(XN_noise)\n",
    "    X = np.concatenate((XT, XN))\n",
    "    y = np.zeros((2*n_samples, 2))\n",
    "    y[:n_samples, 1] = 1\n",
    "    y[n_samples:, 0] = 1\n",
    "    return X, y\n",
    "\n",
    "def pretrain(G, D, noise_dim=10, n_samples=10000, batch_size=128):\n",
    "    X, y = sample_data_and_gen(G, n_samples=n_samples, noise_dim=noise_dim)\n",
    "    set_trainability(D, True)\n",
    "    D.fit(X, y, epochs=1, batch_size=batch_size)\n",
    "\n",
    "pretrain(G, D)"
   ]
  },
  {
   "cell_type": "code",
   "execution_count": 181,
   "metadata": {
    "scrolled": true
   },
   "outputs": [
    {
     "name": "stderr",
     "output_type": "stream",
     "text": [
      "\n",
      "\n",
      "  0%|                                                                                                | 0/50 [00:00<?, ?it/s]\n",
      "\n",
      "  2%|█▊                                                                                      | 1/50 [00:06<05:06,  6.25s/it]\n",
      "\n",
      "  4%|███▌                                                                                    | 2/50 [00:07<03:45,  4.70s/it]\n",
      "\n",
      "  6%|█████▎                                                                                  | 3/50 [00:08<02:49,  3.61s/it]\n",
      "\n",
      "  8%|███████                                                                                 | 4/50 [00:09<02:12,  2.89s/it]\n",
      "\n",
      " 10%|████████▊                                                                               | 5/50 [00:10<01:45,  2.34s/it]\n",
      "\n",
      " 12%|██████████▌                                                                             | 6/50 [00:11<01:26,  1.97s/it]\n",
      "\n",
      " 14%|████████████▎                                                                           | 7/50 [00:12<01:13,  1.70s/it]\n",
      "\n",
      " 16%|██████████████                                                                          | 8/50 [00:13<01:03,  1.52s/it]\n",
      "\n",
      " 18%|███████████████▊                                                                        | 9/50 [00:15<00:57,  1.41s/it]\n",
      "\n",
      " 20%|█████████████████▍                                                                     | 10/50 [00:16<00:54,  1.35s/it]\n",
      "\n",
      " 22%|███████████████████▏                                                                   | 11/50 [00:17<00:52,  1.34s/it]\n",
      "\n",
      " 24%|████████████████████▉                                                                  | 12/50 [00:18<00:50,  1.32s/it]\n",
      "\n",
      " 26%|██████████████████████▌                                                                | 13/50 [00:20<00:47,  1.27s/it]\n",
      "\n",
      " 28%|████████████████████████▎                                                              | 14/50 [00:21<00:44,  1.23s/it]\n",
      "\n",
      " 30%|██████████████████████████                                                             | 15/50 [00:22<00:43,  1.23s/it]\n",
      "\n",
      " 32%|███████████████████████████▊                                                           | 16/50 [00:23<00:40,  1.20s/it]\n",
      "\n",
      " 34%|█████████████████████████████▌                                                         | 17/50 [00:24<00:41,  1.26s/it]\n",
      "\n",
      " 36%|███████████████████████████████▎                                                       | 18/50 [00:26<00:40,  1.27s/it]\n",
      "\n",
      " 38%|█████████████████████████████████                                                      | 19/50 [00:27<00:38,  1.25s/it]\n",
      "\n",
      " 40%|██████████████████████████████████▊                                                    | 20/50 [00:28<00:37,  1.25s/it]\n",
      "\n",
      " 42%|████████████████████████████████████▌                                                  | 21/50 [00:29<00:35,  1.21s/it]\n",
      "\n",
      " 44%|██████████████████████████████████████▎                                                | 22/50 [00:30<00:32,  1.16s/it]\n",
      "\n",
      " 46%|████████████████████████████████████████                                               | 23/50 [00:31<00:30,  1.14s/it]\n",
      "\n",
      " 48%|█████████████████████████████████████████▊                                             | 24/50 [00:33<00:29,  1.13s/it]\n",
      "\n",
      " 50%|███████████████████████████████████████████▌                                           | 25/50 [00:34<00:28,  1.13s/it]\n",
      "\n",
      " 52%|█████████████████████████████████████████████▏                                         | 26/50 [00:35<00:26,  1.11s/it]\n",
      "\n",
      " 54%|██████████████████████████████████████████████▉                                        | 27/50 [00:36<00:25,  1.10s/it]\n",
      "\n",
      " 56%|████████████████████████████████████████████████▋                                      | 28/50 [00:37<00:23,  1.09s/it]\n",
      "\n",
      " 58%|██████████████████████████████████████████████████▍                                    | 29/50 [00:38<00:22,  1.09s/it]\n",
      "\n",
      " 60%|████████████████████████████████████████████████████▏                                  | 30/50 [00:39<00:21,  1.08s/it]\n",
      "\n",
      " 62%|█████████████████████████████████████████████████████▉                                 | 31/50 [00:40<00:20,  1.08s/it]\n",
      "\n",
      " 64%|███████████████████████████████████████████████████████▋                               | 32/50 [00:41<00:19,  1.08s/it]\n",
      "\n",
      " 66%|█████████████████████████████████████████████████████████▍                             | 33/50 [00:42<00:18,  1.08s/it]\n",
      "\n",
      " 68%|███████████████████████████████████████████████████████████▏                           | 34/50 [00:43<00:17,  1.08s/it]\n",
      "\n",
      " 70%|████████████████████████████████████████████████████████████▉                          | 35/50 [00:44<00:16,  1.08s/it]\n",
      "\n",
      " 72%|██████████████████████████████████████████████████████████████▋                        | 36/50 [00:45<00:15,  1.07s/it]\n",
      "\n",
      " 74%|████████████████████████████████████████████████████████████████▍                      | 37/50 [00:47<00:13,  1.07s/it]\n",
      "\n",
      " 76%|██████████████████████████████████████████████████████████████████                     | 38/50 [00:48<00:12,  1.07s/it]\n",
      "\n",
      " 78%|███████████████████████████████████████████████████████████████████▊                   | 39/50 [00:49<00:12,  1.13s/it]\n",
      "\n",
      " 80%|█████████████████████████████████████████████████████████████████████▌                 | 40/50 [00:50<00:11,  1.11s/it]\n",
      "\n",
      " 82%|███████████████████████████████████████████████████████████████████████▎               | 41/50 [00:51<00:09,  1.10s/it]\n",
      "\n",
      " 84%|█████████████████████████████████████████████████████████████████████████              | 42/50 [00:52<00:08,  1.09s/it]\n",
      "\n",
      " 86%|██████████████████████████████████████████████████████████████████████████▊            | 43/50 [00:53<00:07,  1.08s/it]\n",
      "\n",
      " 88%|████████████████████████████████████████████████████████████████████████████▌          | 44/50 [00:54<00:06,  1.08s/it]\n",
      "\n",
      " 90%|██████████████████████████████████████████████████████████████████████████████▎        | 45/50 [00:55<00:05,  1.08s/it]\n",
      "\n",
      " 92%|████████████████████████████████████████████████████████████████████████████████       | 46/50 [00:57<00:04,  1.13s/it]\n",
      "\n",
      " 94%|█████████████████████████████████████████████████████████████████████████████████▊     | 47/50 [00:58<00:03,  1.14s/it]\n",
      "\n",
      " 96%|███████████████████████████████████████████████████████████████████████████████████▌   | 48/50 [00:59<00:02,  1.13s/it]\n",
      "\n",
      " 98%|█████████████████████████████████████████████████████████████████████████████████████▎ | 49/50 [01:00<00:01,  1.11s/it]"
     ]
    },
    {
     "name": "stdout",
     "output_type": "stream",
     "text": [
      "Epoch #50: Generative Loss: 15.780234336853027, Discriminative Loss: 8.01513957977295\n"
     ]
    },
    {
     "name": "stderr",
     "output_type": "stream",
     "text": [
      "\n",
      "\n",
      "100%|███████████████████████████████████████████████████████████████████████████████████████| 50/50 [01:01<00:00,  1.12s/it]"
     ]
    }
   ],
   "source": [
    "def sample_noise(G, noise_dim=10, n_samples=500):\n",
    "    X = np.random.uniform(0, 1, size=[n_samples, noise_dim])\n",
    "    y = np.zeros((n_samples, 2))\n",
    "    y[:, 1] = 1\n",
    "    return X, y\n",
    "\n",
    "def train(GAN, G, D, epochs=50, n_samples=500, noise_dim=10, batch_size=32, verbose=False, v_freq=50):\n",
    "    d_loss = []\n",
    "    g_loss = []\n",
    "    e_range = range(epochs)\n",
    "    if verbose:\n",
    "        e_range = tqdm(e_range)\n",
    "    for epoch in e_range:\n",
    "        X, y = sample_data_and_gen(G, n_samples=n_samples, noise_dim=noise_dim)\n",
    "        set_trainability(D, True)\n",
    "        d_loss.append(D.train_on_batch(X, y))\n",
    "        \n",
    "        X, y = sample_noise(G, n_samples=n_samples, noise_dim=noise_dim)\n",
    "        set_trainability(D, False)\n",
    "        g_loss.append(GAN.train_on_batch(X, y))\n",
    "        if verbose and (epoch + 1) % v_freq == 0:\n",
    "            print(\"Epoch #{}: Generative Loss: {}, Discriminative Loss: {}\".format(epoch + 1, g_loss[-1], d_loss[-1]))\n",
    "    return d_loss, g_loss\n",
    "\n",
    "d_loss, g_loss = train(GAN, G, D, verbose=True)"
   ]
  },
  {
   "cell_type": "code",
   "execution_count": null,
   "metadata": {},
   "outputs": [],
   "source": []
  },
  {
   "cell_type": "code",
   "execution_count": null,
   "metadata": {},
   "outputs": [],
   "source": []
  }
 ],
 "metadata": {
  "kernelspec": {
   "display_name": "Python 3",
   "language": "python",
   "name": "python3"
  },
  "language_info": {
   "codemirror_mode": {
    "name": "ipython",
    "version": 3
   },
   "file_extension": ".py",
   "mimetype": "text/x-python",
   "name": "python",
   "nbconvert_exporter": "python",
   "pygments_lexer": "ipython3",
   "version": "3.5.5"
  }
 },
 "nbformat": 4,
 "nbformat_minor": 2
}
