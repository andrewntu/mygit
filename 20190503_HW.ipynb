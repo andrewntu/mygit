{
 "cells": [
  {
   "cell_type": "code",
   "execution_count": 20,
   "metadata": {},
   "outputs": [],
   "source": [
    "import tensorflow as tf\n",
    "from keras.models import Sequential\n",
    "from keras.datasets import mnist\n",
    "from keras.layers.core import Dense,Activation\n",
    "from keras.optimizers import SGD,adam\n",
    "import keras\n",
    "from keras.utils import to_categorical\n",
    "import matplotlib.pyplot as plt\n",
    "%matplotlib inline"
   ]
  },
  {
   "cell_type": "code",
   "execution_count": 61,
   "metadata": {},
   "outputs": [],
   "source": [
    "\n",
    "def show_train_history(train_history, train, validation):\n",
    "    plt.plot(train_history.history[train])\n",
    "    plt.plot(train_history.history[validation])\n",
    "    plt.title('Train history')\n",
    "    plt.ylabel('train')\n",
    "    plt.xlabel('Epoch')\n",
    "    plt.legend(['train', 'validation'], loc='center right')\n",
    "    plt.show()\n",
    "def P_label(folder):\n",
    "    global labels ,labels_hot ,dict_labels\n",
    "    label = os.path.basename(folders)\n",
    "    if folder.endswith('Pwave'):\n",
    "        for i in range(0,len(images)):\n",
    "            className = np.asarray(label)\n",
    "            #print(className)\n",
    "            labels.append(className)\n",
    "            labels_hot.append(dict_labels[label])\n",
    "    if folder.endswith('Noise'):\n",
    "        for i in range(0,len(noise)):\n",
    "            className = np.asarray(label)\n",
    "            #print(className)\n",
    "            labels.append(className)\n",
    "            labels_hot.append(dict_labels[label])            "
   ]
  },
  {
   "cell_type": "code",
   "execution_count": 21,
   "metadata": {},
   "outputs": [],
   "source": [
    "(train_data,train_label),(test_data,test_label) = mnist.load_data()"
   ]
  },
  {
   "cell_type": "code",
   "execution_count": 22,
   "metadata": {},
   "outputs": [
    {
     "name": "stdout",
     "output_type": "stream",
     "text": [
      "(60000, 784) (10000, 784)\n"
     ]
    }
   ],
   "source": [
    "import numpy as np\n",
    "train_data = train_data.reshape(len(train_data),784)\n",
    "test_data = test_data.reshape(len(test_data),784)\n",
    "print(train_data.shape,test_data.shape)"
   ]
  },
  {
   "cell_type": "code",
   "execution_count": 23,
   "metadata": {},
   "outputs": [
    {
     "name": "stdout",
     "output_type": "stream",
     "text": [
      "(60000, 10)\n",
      "(10000, 10)\n"
     ]
    }
   ],
   "source": [
    "trainlabel = to_categorical(train_label,10)\n",
    "print(trainlabel.shape)\n",
    "testlabel = to_categorical(test_label,10)\n",
    "print(testlabel.shape)"
   ]
  },
  {
   "cell_type": "markdown",
   "metadata": {},
   "source": [
    "## 如何不改變模型權重？"
   ]
  },
  {
   "cell_type": "markdown",
   "metadata": {},
   "source": [
    "## Function API"
   ]
  },
  {
   "cell_type": "code",
   "execution_count": 24,
   "metadata": {},
   "outputs": [],
   "source": [
    "from keras.models import Model\n",
    "from keras.layers import Input\n",
    "from keras.layers import concatenate,add"
   ]
  },
  {
   "cell_type": "code",
   "execution_count": 55,
   "metadata": {},
   "outputs": [],
   "source": [
    "x = Input(shape=(784,))"
   ]
  },
  {
   "cell_type": "markdown",
   "metadata": {},
   "source": [
    "## 設定不同的 Activation Function"
   ]
  },
  {
   "cell_type": "code",
   "execution_count": 64,
   "metadata": {},
   "outputs": [],
   "source": [
    "f_1 = Dense(100,activation='relu',kernel_initializer='random_uniform')\n",
    "f_2 = Dense(100,activation='relu',kernel_initializer='random_uniform')\n",
    "f_3 = Dense(100,activation='relu',kernel_initializer='random_uniform')\n",
    "f_4 = Dense(100,activation='relu',kernel_initializer='random_uniform')\n",
    "f_5 = Dense(100,activation='relu',kernel_initializer='random_uniform')\n",
    "f_6 = Dense(100,activation='relu',kernel_initializer='random_uniform')\n",
    "f_7 = Dense(100,activation='relu',kernel_initializer='random_uniform')\n",
    "f_8 = Dense(100,activation='relu',kernel_initializer='random_uniform')\n",
    "f_9 = Dense(100,activation='relu',kernel_initializer='random_uniform')\n",
    "f_10 = Dense(100,activation='relu',kernel_initializer='random_uniform')\n",
    "f_11 = Dense(100,activation='relu',kernel_initializer='random_uniform')\n",
    "f_12 = Dense(10,activation='softmax')"
   ]
  },
  {
   "cell_type": "code",
   "execution_count": 65,
   "metadata": {},
   "outputs": [],
   "source": [
    "h_1 = f_1(x)\n",
    "h_2 = f_2(h_1)\n",
    "h_3 = f_3(h_1)\n",
    "h_4 = f_4(h_1)\n",
    "h_5 = f_5(h_1)\n",
    "\n",
    "u_1 = concatenate([h_2,h_3])\n",
    "u_2 = concatenate([h_2,h_4])\n",
    "u_3 = concatenate([h_2,h_5])\n",
    "v_1 = concatenate([h_3,h_4])\n",
    "v_2 = concatenate([h_3,h_5])\n",
    "w_1 = concatenate([h_4,h_5])\n",
    "\n",
    "h_6 = f_6(u_1)\n",
    "h_7 = f_7(u_2)\n",
    "h_8 = f_8(u_3)\n",
    "h_9 = f_9(v_1)\n",
    "h_10 = f_10(v_2)\n",
    "h_11 = f_11(w_1)\n",
    "\n",
    "all_1 = concatenate([h_6,h_7,h_8,h_9,h_10,h_11])\n",
    "y = f_12(all_1)"
   ]
  },
  {
   "cell_type": "code",
   "execution_count": 66,
   "metadata": {},
   "outputs": [
    {
     "name": "stdout",
     "output_type": "stream",
     "text": [
      "__________________________________________________________________________________________________\n",
      "Layer (type)                    Output Shape         Param #     Connected to                     \n",
      "==================================================================================================\n",
      "input_3 (InputLayer)            (None, 784)          0                                            \n",
      "__________________________________________________________________________________________________\n",
      "dense_91 (Dense)                (None, 100)          78500       input_3[0][0]                    \n",
      "__________________________________________________________________________________________________\n",
      "dense_92 (Dense)                (None, 100)          10100       dense_91[0][0]                   \n",
      "__________________________________________________________________________________________________\n",
      "dense_93 (Dense)                (None, 100)          10100       dense_91[0][0]                   \n",
      "__________________________________________________________________________________________________\n",
      "dense_94 (Dense)                (None, 100)          10100       dense_91[0][0]                   \n",
      "__________________________________________________________________________________________________\n",
      "dense_95 (Dense)                (None, 100)          10100       dense_91[0][0]                   \n",
      "__________________________________________________________________________________________________\n",
      "concatenate_56 (Concatenate)    (None, 200)          0           dense_92[0][0]                   \n",
      "                                                                 dense_93[0][0]                   \n",
      "__________________________________________________________________________________________________\n",
      "concatenate_57 (Concatenate)    (None, 200)          0           dense_92[0][0]                   \n",
      "                                                                 dense_94[0][0]                   \n",
      "__________________________________________________________________________________________________\n",
      "concatenate_58 (Concatenate)    (None, 200)          0           dense_92[0][0]                   \n",
      "                                                                 dense_95[0][0]                   \n",
      "__________________________________________________________________________________________________\n",
      "concatenate_59 (Concatenate)    (None, 200)          0           dense_93[0][0]                   \n",
      "                                                                 dense_94[0][0]                   \n",
      "__________________________________________________________________________________________________\n",
      "concatenate_60 (Concatenate)    (None, 200)          0           dense_93[0][0]                   \n",
      "                                                                 dense_95[0][0]                   \n",
      "__________________________________________________________________________________________________\n",
      "concatenate_61 (Concatenate)    (None, 200)          0           dense_94[0][0]                   \n",
      "                                                                 dense_95[0][0]                   \n",
      "__________________________________________________________________________________________________\n",
      "dense_96 (Dense)                (None, 100)          20100       concatenate_56[0][0]             \n",
      "__________________________________________________________________________________________________\n",
      "dense_97 (Dense)                (None, 100)          20100       concatenate_57[0][0]             \n",
      "__________________________________________________________________________________________________\n",
      "dense_98 (Dense)                (None, 100)          20100       concatenate_58[0][0]             \n",
      "__________________________________________________________________________________________________\n",
      "dense_99 (Dense)                (None, 100)          20100       concatenate_59[0][0]             \n",
      "__________________________________________________________________________________________________\n",
      "dense_100 (Dense)               (None, 100)          20100       concatenate_60[0][0]             \n",
      "__________________________________________________________________________________________________\n",
      "dense_101 (Dense)               (None, 100)          20100       concatenate_61[0][0]             \n",
      "__________________________________________________________________________________________________\n",
      "concatenate_62 (Concatenate)    (None, 600)          0           dense_96[0][0]                   \n",
      "                                                                 dense_97[0][0]                   \n",
      "                                                                 dense_98[0][0]                   \n",
      "                                                                 dense_99[0][0]                   \n",
      "                                                                 dense_100[0][0]                  \n",
      "                                                                 dense_101[0][0]                  \n",
      "__________________________________________________________________________________________________\n",
      "dense_102 (Dense)               (None, 10)           6010        concatenate_62[0][0]             \n",
      "==================================================================================================\n",
      "Total params: 245,510\n",
      "Trainable params: 245,510\n",
      "Non-trainable params: 0\n",
      "__________________________________________________________________________________________________\n"
     ]
    }
   ],
   "source": [
    "model = Model(x,y)\n",
    "model.summary()"
   ]
  },
  {
   "cell_type": "code",
   "execution_count": 67,
   "metadata": {},
   "outputs": [],
   "source": [
    "model.compile(loss='categorical_crossentropy',optimizer='adam',metrics=['accuracy'])"
   ]
  },
  {
   "cell_type": "code",
   "execution_count": 68,
   "metadata": {},
   "outputs": [
    {
     "name": "stdout",
     "output_type": "stream",
     "text": [
      "Train on 48000 samples, validate on 12000 samples\n",
      "Epoch 1/20\n",
      "48000/48000 [==============================] - 3s 55us/step - loss: 0.3389 - acc: 0.9044 - val_loss: 0.1764 - val_acc: 0.9487\n",
      "Epoch 2/20\n",
      "48000/48000 [==============================] - 2s 37us/step - loss: 0.1302 - acc: 0.9607 - val_loss: 0.1589 - val_acc: 0.9543\n",
      "Epoch 3/20\n",
      "48000/48000 [==============================] - 2s 38us/step - loss: 0.1010 - acc: 0.9684 - val_loss: 0.1273 - val_acc: 0.9628\n",
      "Epoch 4/20\n",
      "48000/48000 [==============================] - 2s 38us/step - loss: 0.0773 - acc: 0.9758 - val_loss: 0.1422 - val_acc: 0.9604\n",
      "Epoch 5/20\n",
      "48000/48000 [==============================] - 2s 38us/step - loss: 0.0740 - acc: 0.9777 - val_loss: 0.1255 - val_acc: 0.9692\n",
      "Epoch 6/20\n",
      "48000/48000 [==============================] - 2s 38us/step - loss: 0.0596 - acc: 0.9815 - val_loss: 0.1583 - val_acc: 0.9603\n",
      "Epoch 7/20\n",
      "48000/48000 [==============================] - 2s 39us/step - loss: 0.0619 - acc: 0.9807 - val_loss: 0.1184 - val_acc: 0.9703\n",
      "Epoch 8/20\n",
      "48000/48000 [==============================] - 2s 39us/step - loss: 0.0549 - acc: 0.9836 - val_loss: 0.1394 - val_acc: 0.9672\n",
      "Epoch 9/20\n",
      "48000/48000 [==============================] - 2s 38us/step - loss: 0.0542 - acc: 0.9838 - val_loss: 0.1550 - val_acc: 0.9626\n",
      "Epoch 10/20\n",
      "48000/48000 [==============================] - 2s 38us/step - loss: 0.0438 - acc: 0.9866 - val_loss: 0.1505 - val_acc: 0.9682\n",
      "Epoch 11/20\n",
      "48000/48000 [==============================] - 2s 38us/step - loss: 0.0507 - acc: 0.9848 - val_loss: 0.1407 - val_acc: 0.9710\n",
      "Epoch 12/20\n",
      "48000/48000 [==============================] - 2s 38us/step - loss: 0.0424 - acc: 0.9875 - val_loss: 0.1401 - val_acc: 0.9721\n",
      "Epoch 13/20\n",
      "48000/48000 [==============================] - 2s 38us/step - loss: 0.0521 - acc: 0.9851 - val_loss: 0.1500 - val_acc: 0.9706\n",
      "Epoch 14/20\n",
      "48000/48000 [==============================] - 2s 38us/step - loss: 0.0416 - acc: 0.9883 - val_loss: 0.1401 - val_acc: 0.9728\n",
      "Epoch 15/20\n",
      "48000/48000 [==============================] - 2s 41us/step - loss: 0.0369 - acc: 0.9899 - val_loss: 0.2156 - val_acc: 0.9604\n",
      "Epoch 16/20\n",
      "48000/48000 [==============================] - 2s 41us/step - loss: 0.0511 - acc: 0.9864 - val_loss: 0.1791 - val_acc: 0.9688\n",
      "Epoch 17/20\n",
      "48000/48000 [==============================] - 2s 40us/step - loss: 0.0428 - acc: 0.9885 - val_loss: 0.1755 - val_acc: 0.9685\n",
      "Epoch 18/20\n",
      "48000/48000 [==============================] - 2s 39us/step - loss: 0.0374 - acc: 0.9899 - val_loss: 0.1653 - val_acc: 0.9709\n",
      "Epoch 19/20\n",
      "48000/48000 [==============================] - 2s 39us/step - loss: 0.0414 - acc: 0.9890 - val_loss: 0.1580 - val_acc: 0.9705\n",
      "Epoch 20/20\n",
      "48000/48000 [==============================] - 2s 40us/step - loss: 0.0443 - acc: 0.9889 - val_loss: 0.1771 - val_acc: 0.9718\n"
     ]
    }
   ],
   "source": [
    "train_history = model.fit(train_data,trainlabel,batch_size=128,epochs=20,validation_split=0.2)"
   ]
  },
  {
   "cell_type": "code",
   "execution_count": 69,
   "metadata": {},
   "outputs": [
    {
     "data": {
      "image/png": "[encoded data removed]",
      "text/plain": [
       "<Figure size 432x288 with 1 Axes>"
      ]
     },
     "metadata": {
      "needs_background": "light"
     },
     "output_type": "display_data"
    }
   ],
   "source": [
    "show_train_history(train_history,'acc','val_acc')"
   ]
  },
  {
   "cell_type": "code",
   "execution_count": 70,
   "metadata": {},
   "outputs": [
    {
     "data": {
      "image/png": "[encoded data removed]",
      "text/plain": [
       "<Figure size 432x288 with 1 Axes>"
      ]
     },
     "metadata": {
      "needs_background": "light"
     },
     "output_type": "display_data"
    }
   ],
   "source": [
    "show_train_history(train_history,'loss','val_loss')"
   ]
  },
  {
   "cell_type": "code",
   "execution_count": 71,
   "metadata": {},
   "outputs": [
    {
     "name": "stdout",
     "output_type": "stream",
     "text": [
      "10000/10000 [==============================] - 0s 30us/step\n",
      "0.9725\n",
      "60000/60000 [==============================] - 2s 31us/step\n",
      "0.98765\n"
     ]
    }
   ],
   "source": [
    "scores_test = model.evaluate(test_data,testlabel)\n",
    "print(scores_test[1])\n",
    "scores_train = model.evaluate(train_data,trainlabel)\n",
    "print(scores_train[1])"
   ]
  },
  {
   "cell_type": "code",
   "execution_count": null,
   "metadata": {},
   "outputs": [],
   "source": []
  }
 ],
 "metadata": {
  "kernelspec": {
   "display_name": "Python 3",
   "language": "python",
   "name": "python3"
  },
  "language_info": {
   "codemirror_mode": {
    "name": "ipython",
    "version": 3
   },
   "file_extension": ".py",
   "mimetype": "text/x-python",
   "name": "python",
   "nbconvert_exporter": "python",
   "pygments_lexer": "ipython3",
   "version": "3.7.1"
  }
 },
 "nbformat": 4,
 "nbformat_minor": 2
}
