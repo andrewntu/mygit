{
 "cells": [
  {
   "cell_type": "code",
   "execution_count": 25,
   "metadata": {},
   "outputs": [],
   "source": [
    "import pandas as pd\n",
    "import glob\n",
    "import matplotlib.pyplot as plt\n",
    "import numpy as np\n",
    "%matplotlib inline"
   ]
  },
  {
   "cell_type": "code",
   "execution_count": 26,
   "metadata": {},
   "outputs": [],
   "source": [
    "file_oil = glob.glob('D:/NTU Course/Fortran/test/Application_Math/Oil/*csv')\n",
    "oil = dict()\n",
    "for file_name in file_oil:\n",
    "    oil[file_name] = pd.read_csv(file_name)"
   ]
  },
  {
   "cell_type": "code",
   "execution_count": 27,
   "metadata": {},
   "outputs": [
    {
     "name": "stdout",
     "output_type": "stream",
     "text": [
      "              日期        最新        開市         高         低       成交量    更改%\n",
      "0    2000年12月29日     26.80     25.77     26.95     25.62    35.53K   3.68\n",
      "1    2000年12月28日     25.85     26.48     26.58     25.77    34.44K  -2.34\n",
      "2    2000年12月27日     26.47     26.60     27.00     26.41    34.00K  -0.64\n",
      "3    2000年12月26日     26.64     26.20     26.88     26.20    24.45K   1.76\n",
      "4    2000年12月22日     26.18     26.05     27.25     25.95    41.15K   0.77\n",
      "5    2000年12月21日     25.98     25.65     26.48     25.58    52.29K   0.81\n",
      "6    2000年12月20日     25.77     27.65     27.94     25.65    64.49K -12.14\n",
      "7    2000年12月19日     29.33     29.30     29.75     28.75    45.50K  -1.44\n",
      "8    2000年12月18日     29.76     28.93     29.85     28.93    50.76K   3.08\n",
      "9    2000年12月15日     28.87     27.97     28.90     27.90    53.22K   3.14\n",
      "10   2000年12月14日     27.99     28.53     29.09     27.51    70.75K  -2.61\n",
      "11   2000年12月13日     28.74     29.65     30.04     28.50    71.41K  -3.17\n",
      "12   2000年12月12日     29.68     29.56     29.90     28.95    60.27K   0.61\n",
      "13   2000年12月11日     29.50     28.20     29.55     28.20    77.30K   3.73\n",
      "14    2000年12月8日     28.44     29.30     29.42     27.85    80.72K  -3.10\n",
      "15    2000年12月7日     29.35     29.88     30.35     29.07    39.65K  -1.68\n",
      "16    2000年12月6日     29.85     29.50     30.20     28.25    96.06K   1.08\n",
      "17    2000年12月5日     29.53     31.20     31.53     29.50   103.34K  -5.41\n",
      "18    2000年12月4日     31.22     32.10     32.75     30.95    92.27K  -2.50\n",
      "19    2000年12月1日     32.02     33.76     34.15     31.90    96.06K  -5.32\n",
      "20   2000年11月30日     33.82     34.64     35.10     33.70    79.90K  -2.34\n",
      "21   2000年11月29日     34.63     34.19     34.90     33.87    82.49K   1.20\n",
      "22   2000年11月28日     34.22     35.34     35.34     34.19    70.03K  -3.28\n",
      "23   2000年11月27日     35.38     35.18     35.69     35.02    50.39K  -0.06\n",
      "24   2000年11月22日     35.40     35.20     35.64     34.67    45.77K   0.68\n",
      "25   2000年11月21日     35.16     35.18     35.70     34.90    54.87K  -0.17\n",
      "26   2000年11月20日     35.22     34.98     35.84     34.98    68.25K  -0.65\n",
      "27   2000年11月17日     35.45     35.08     35.70     34.42    54.80K   0.94\n",
      "28   2000年11月16日     35.12     35.54     35.60     34.96    51.77K  -1.29\n",
      "29   2000年11月15日     35.58     34.85     35.65     34.55    80.89K   2.04\n",
      "..           ...       ...       ...       ...       ...       ...    ...\n",
      "221   2000年2月11日     29.44     29.42     29.94     29.02    76.43K   0.03\n",
      "222   2000年2月10日     29.43     28.60     29.50     28.60    75.87K   2.29\n",
      "223    2000年2月9日     28.77     28.00     28.84     27.71    86.91K   2.68\n",
      "224    2000年2月8日     28.02     28.44     28.49     27.91    66.13K  -1.51\n",
      "225    2000年2月7日     28.45     28.71     28.90     28.25    60.11K  -1.28\n",
      "226    2000年2月4日     28.82     28.17     28.87     27.75    67.03K   2.82\n",
      "227    2000年2月3日     28.03     27.56     28.40     27.41    77.94K   1.74\n",
      "228    2000年2月2日     27.55     28.22     28.65     27.45    97.35K  -2.37\n",
      "229    2000年2月1日     28.22     27.60     28.40     27.60    76.41K   2.10\n",
      "230   2000年1月31日     27.64     27.10     27.90     26.70    81.84K   1.54\n",
      "231   2000年1月28日     27.22     27.22     27.55     26.95    67.37K  -0.37\n",
      "232   2000年1月27日     27.32     27.78     28.10     27.19    89.12K  -1.87\n",
      "233   2000年1月26日     27.84     28.29     28.77     27.80    67.17K  -1.56\n",
      "234   2000年1月25日     28.28     27.78     28.55     27.35    54.49K   1.62\n",
      "235   2000年1月24日     27.83     28.23     28.69     27.51    57.64K  -1.31\n",
      "236   2000年1月21日     28.20     27.85     29.10     27.70    90.97K  -4.92\n",
      "237   2000年1月20日     29.66     29.40     29.95     28.80    57.72K   0.41\n",
      "238   2000年1月19日     29.54     28.80     29.68     28.55    69.99K   2.39\n",
      "239   2000年1月18日     28.85     28.03     29.00     27.96    65.20K   2.96\n",
      "240   2000年1月14日     28.02     26.80     28.10     26.61    68.81K   4.98\n",
      "241   2000年1月13日     26.69     26.28     27.12     26.20    90.22K   1.56\n",
      "242   2000年1月12日     26.28     25.73     26.55     25.38    93.76K   1.98\n",
      "243   2000年1月11日     25.77     24.71     25.80     24.67   106.49K   4.46\n",
      "244   2000年1月10日     24.67     24.22     24.75     24.02    68.90K   1.86\n",
      "245    2000年1月7日     24.22     24.65     25.00     24.15    91.83K  -2.26\n",
      "246    2000年1月6日     24.78     24.80     25.34     24.51    85.25K  -0.52\n",
      "247    2000年1月5日     24.91     25.50     25.61     24.87    70.94K  -2.50\n",
      "248    2000年1月4日     25.55     25.20     25.69     24.71    74.79K  -0.20\n",
      "249          NaN       NaN       NaN       NaN       NaN       NaN    NaN\n",
      "250          NaN  最高:37.80  最低:23.70  差價:14.10  平均:30.26  更改%:4.69    NaN\n",
      "\n",
      "[251 rows x 7 columns]\n"
     ]
    }
   ],
   "source": [
    "print(oil[file_oil[0]])"
   ]
  },
  {
   "cell_type": "code",
   "execution_count": 28,
   "metadata": {},
   "outputs": [],
   "source": [
    "oildata = []\n",
    "oildate = []\n",
    "for i in range(len(oil)):\n",
    "    oil[file_oil[i]] = oil[file_oil[i]][0:240]\n",
    "    oildata.append(oil[file_oil[i]]['最新'])\n",
    "    oildate.append(oil[file_oil[i]]['日期'])\n"
   ]
  },
  {
   "cell_type": "code",
   "execution_count": 29,
   "metadata": {},
   "outputs": [],
   "source": [
    "# oildata = pd.DataFrame(oildata)\n",
    "# oildate = pd.DataFrame(oildate) \n",
    "oildata = np.array(oildata)\n",
    "oildate = np.array(oildate) \n"
   ]
  },
  {
   "cell_type": "code",
   "execution_count": 30,
   "metadata": {},
   "outputs": [],
   "source": [
    "x = np.zeros(240)\n",
    "for s in range(len(oildata)):\n",
    "    for i in range(240):\n",
    "        x[i] = i\n",
    "        oildata[s,i] = float(oildata[s,i])\n"
   ]
  },
  {
   "cell_type": "code",
   "execution_count": 31,
   "metadata": {},
   "outputs": [],
   "source": [
    "allappendoil = []\n",
    "for i in range(len(oildata)):\n",
    "#     print(i)\n",
    "    allappendoil.extend(oildata[i])\n",
    "allappendoil = np.array(allappendoil)"
   ]
  },
  {
   "cell_type": "code",
   "execution_count": 32,
   "metadata": {},
   "outputs": [],
   "source": [
    "allday = np.zeros(len(allappendoil))\n",
    "for i in range(len(allappendoil)):\n",
    "    allday[i] = i"
   ]
  },
  {
   "cell_type": "code",
   "execution_count": 33,
   "metadata": {},
   "outputs": [
    {
     "data": {
      "text/plain": [
       "[<matplotlib.lines.Line2D at 0x1fa3cbe9d30>]"
      ]
     },
     "execution_count": 33,
     "metadata": {},
     "output_type": "execute_result"
    },
    {
     "data": {
      "image/png": "[encoded data removed]",
      "text/plain": [
       "<Figure size 432x288 with 1 Axes>"
      ]
     },
     "metadata": {},
     "output_type": "display_data"
    }
   ],
   "source": [
    "plt.figure()\n",
    "plt.xlabel('Days')\n",
    "plt.ylabel('Oil Price')\n",
    "plt.plot(allday,allappendoil,'r')"
   ]
  },
  {
   "cell_type": "code",
   "execution_count": 39,
   "metadata": {},
   "outputs": [],
   "source": [
    "fftoil=fft(allappendoil)\n",
    "fftreal = fftoil.real \n",
    "fftimag = fftoil.imag\n",
    "\n",
    "yf=abs(fft(allappendoil))                \n",
    "yf1=abs(fft(allappendoil))/len(allappendoil) \n",
    "yf2 = yf1[range(int(len(allappendoil)/2))]\n",
    "\n",
    "xf = np.arange(len(allappendoil))\n",
    "xf1 = xf\n",
    "xf2 = xf[range(int(len(allappendoil)/2))]"
   ]
  },
  {
   "cell_type": "code",
   "execution_count": 43,
   "metadata": {},
   "outputs": [
    {
     "data": {
      "text/plain": [
       "[<matplotlib.lines.Line2D at 0x1fa40a776a0>]"
      ]
     },
     "execution_count": 43,
     "metadata": {},
     "output_type": "execute_result"
    },
    {
     "data": {
      "image/png": "[encoded data removed]",
      "text/plain": [
       "<Figure size 432x288 with 1 Axes>"
      ]
     },
     "metadata": {},
     "output_type": "display_data"
    }
   ],
   "source": [
    "plt.figure()\n",
    "plt.xlabel('Frequency (Hz)')\n",
    "plt.ylabel('Amplitude')\n",
    "plt.plot(xf2,yf2,'r')"
   ]
  },
  {
   "cell_type": "code",
   "execution_count": null,
   "metadata": {},
   "outputs": [],
   "source": []
  }
 ],
 "metadata": {
  "kernelspec": {
   "display_name": "Python 3",
   "language": "python",
   "name": "python3"
  },
  "language_info": {
   "codemirror_mode": {
    "name": "ipython",
    "version": 3
   },
   "file_extension": ".py",
   "mimetype": "text/x-python",
   "name": "python",
   "nbconvert_exporter": "python",
   "pygments_lexer": "ipython3",
   "version": "3.5.5"
  }
 },
 "nbformat": 4,
 "nbformat_minor": 2
}
