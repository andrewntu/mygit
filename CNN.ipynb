{
 "cells": [
  {
   "cell_type": "code",
   "execution_count": 60,
   "metadata": {},
   "outputs": [],
   "source": [
    "import tensorflow as tf\n",
    "import keras\n",
    "from keras.models import Sequential\n",
    "import matplotlib.pyplot as plt\n",
    "from keras.utils import np_utils\n",
    "from keras.layers import Dense,Flatten,Dropout,Conv2D,MaxPooling2D\n",
    "from keras.datasets import mnist\n",
    "import pandas as pd"
   ]
  },
  {
   "cell_type": "code",
   "execution_count": 62,
   "metadata": {},
   "outputs": [],
   "source": [
    "(Train,Train_label),(Test,Test_label) = mnist.load_data()"
   ]
  },
  {
   "cell_type": "code",
   "execution_count": 63,
   "metadata": {},
   "outputs": [],
   "source": [
    "Train = Train.reshape(len(Train),28,28,1)\n",
    "Test = Test.reshape(len(Test),28,28,1)\n",
    "origin_Train = Train_label\n",
    "origin_Test = Test_label\n",
    "Train_label = np_utils.to_categorical(Train_label,10)\n",
    "Test_label = np_utils.to_categorical(Test_label,10)"
   ]
  },
  {
   "cell_type": "code",
   "execution_count": 82,
   "metadata": {},
   "outputs": [],
   "source": [
    "Train = Train/255\n",
    "Test = Test/255"
   ]
  },
  {
   "cell_type": "code",
   "execution_count": 71,
   "metadata": {},
   "outputs": [],
   "source": [
    "def show_train_history(train_history, train, validation):\n",
    "    plt.plot(train_history.history[train])\n",
    "    plt.plot(train_history.history[validation])\n",
    "    plt.title('Train history')\n",
    "    plt.ylabel('train')\n",
    "    plt.xlabel('Epoch')\n",
    "    plt.legend(['train', 'validation'], loc='center right')\n",
    "    plt.show()"
   ]
  },
  {
   "cell_type": "markdown",
   "metadata": {},
   "source": [
    "## 分為淺層及深層的CNN,以及有沒有全連接神經層"
   ]
  },
  {
   "cell_type": "markdown",
   "metadata": {},
   "source": [
    "## 1.淺層CNN"
   ]
  },
  {
   "cell_type": "code",
   "execution_count": 48,
   "metadata": {},
   "outputs": [
    {
     "name": "stdout",
     "output_type": "stream",
     "text": [
      "_________________________________________________________________\n",
      "Layer (type)                 Output Shape              Param #   \n",
      "=================================================================\n",
      "conv2d_33 (Conv2D)           (None, 28, 28, 12)        312       \n",
      "_________________________________________________________________\n",
      "max_pooling2d_26 (MaxPooling (None, 14, 14, 12)        0         \n",
      "_________________________________________________________________\n",
      "dropout_24 (Dropout)         (None, 14, 14, 12)        0         \n",
      "_________________________________________________________________\n",
      "conv2d_34 (Conv2D)           (None, 14, 14, 20)        6020      \n",
      "_________________________________________________________________\n",
      "max_pooling2d_27 (MaxPooling (None, 7, 7, 20)          0         \n",
      "_________________________________________________________________\n",
      "dropout_25 (Dropout)         (None, 7, 7, 20)          0         \n",
      "_________________________________________________________________\n",
      "flatten_3 (Flatten)          (None, 980)               0         \n",
      "_________________________________________________________________\n",
      "dense_7 (Dense)              (None, 64)                62784     \n",
      "_________________________________________________________________\n",
      "dropout_26 (Dropout)         (None, 64)                0         \n",
      "_________________________________________________________________\n",
      "dense_8 (Dense)              (None, 128)               8320      \n",
      "_________________________________________________________________\n",
      "dropout_27 (Dropout)         (None, 128)               0         \n",
      "_________________________________________________________________\n",
      "dense_9 (Dense)              (None, 10)                1290      \n",
      "=================================================================\n",
      "Total params: 78,726\n",
      "Trainable params: 78,726\n",
      "Non-trainable params: 0\n",
      "_________________________________________________________________\n"
     ]
    }
   ],
   "source": [
    "model_shallow = Sequential()\n",
    "model_shallow.add(Conv2D(filters=12,kernel_size=(5,5),padding='same',input_shape=(28,28,1),activation='relu'))\n",
    "model_shallow.add(MaxPooling2D(pool_size=(2,2)))\n",
    "model_shallow.add(Dropout(0.5))\n",
    "model_shallow.add(Conv2D(filters=20,kernel_size=(5,5),padding='same',activation='relu'))\n",
    "model_shallow.add(MaxPooling2D(pool_size=(2,2)))\n",
    "model_shallow.add(Dropout(0.5))\n",
    "####################################加入FCN\n",
    "model_shallow.add(Flatten())\n",
    "model_shallow.add(Dense(units=64,activation='relu'))\n",
    "model_shallow.add(Dropout(0.5))\n",
    "model_shallow.add(Dense(units=128,activation='relu'))\n",
    "model_shallow.add(Dropout(0.5))\n",
    "#################################### Output layer\n",
    "model_shallow.add(Dense(units=10,activation='softmax'))\n",
    "model_shallow.compile(loss='categorical_crossentropy',optimizer='adam',metrics=['accuracy'])\n",
    "model_shallow.summary()"
   ]
  },
  {
   "cell_type": "code",
   "execution_count": 49,
   "metadata": {},
   "outputs": [
    {
     "name": "stdout",
     "output_type": "stream",
     "text": [
      "Train on 60000 samples, validate on 10000 samples\n",
      "Epoch 1/10\n",
      "60000/60000 [==============================] - 16s 274us/step - loss: 0.9884 - acc: 0.6629 - val_loss: 0.1597 - val_acc: 0.9573\n",
      "Epoch 2/10\n",
      "60000/60000 [==============================] - 6s 103us/step - loss: 0.3791 - acc: 0.8899 - val_loss: 0.0999 - val_acc: 0.9705\n",
      "Epoch 3/10\n",
      "60000/60000 [==============================] - 6s 107us/step - loss: 0.2826 - acc: 0.9172 - val_loss: 0.0709 - val_acc: 0.9783\n",
      "Epoch 4/10\n",
      "60000/60000 [==============================] - 7s 109us/step - loss: 0.2393 - acc: 0.9313 - val_loss: 0.0661 - val_acc: 0.9814\n",
      "Epoch 5/10\n",
      "60000/60000 [==============================] - 7s 110us/step - loss: 0.2159 - acc: 0.9393 - val_loss: 0.0562 - val_acc: 0.9835\n",
      "Epoch 6/10\n",
      "60000/60000 [==============================] - 7s 109us/step - loss: 0.2041 - acc: 0.9425 - val_loss: 0.0538 - val_acc: 0.9839\n",
      "Epoch 7/10\n",
      "60000/60000 [==============================] - 7s 109us/step - loss: 0.1841 - acc: 0.9484 - val_loss: 0.0468 - val_acc: 0.9865\n",
      "Epoch 8/10\n",
      "60000/60000 [==============================] - 7s 111us/step - loss: 0.1767 - acc: 0.9500 - val_loss: 0.0450 - val_acc: 0.9864\n",
      "Epoch 9/10\n",
      "60000/60000 [==============================] - 6s 103us/step - loss: 0.1688 - acc: 0.9529 - val_loss: 0.0458 - val_acc: 0.9853\n",
      "Epoch 10/10\n",
      "60000/60000 [==============================] - 7s 117us/step - loss: 0.1642 - acc: 0.9536 - val_loss: 0.0418 - val_acc: 0.9872\n"
     ]
    }
   ],
   "source": [
    "train_shallow=model_shallow.fit(x=Train, y=Train_label, validation_data=(Test, Test_label), validation_split=0.2, epochs=10, batch_size=128, verbose=1)"
   ]
  },
  {
   "cell_type": "code",
   "execution_count": 53,
   "metadata": {},
   "outputs": [
    {
     "data": {
      "image/png": "[encoded data removed]",
      "text/plain": [
       "<Figure size 432x288 with 1 Axes>"
      ]
     },
     "metadata": {},
     "output_type": "display_data"
    }
   ],
   "source": [
    "show_train_history(train_shallow,'acc','val_acc')"
   ]
  },
  {
   "cell_type": "code",
   "execution_count": 54,
   "metadata": {},
   "outputs": [
    {
     "data": {
      "image/png": "[encoded data removed]",
      "text/plain": [
       "<Figure size 432x288 with 1 Axes>"
      ]
     },
     "metadata": {},
     "output_type": "display_data"
    }
   ],
   "source": [
    "show_train_history(train_shallow,'loss','val_loss')"
   ]
  },
  {
   "cell_type": "code",
   "execution_count": 58,
   "metadata": {},
   "outputs": [],
   "source": [
    "prediction_shallow_test = model_shallow.predict_classes(Test)\n",
    "prediction_shallow_train = model_shallow.predict_classes(Train)"
   ]
  },
  {
   "cell_type": "code",
   "execution_count": 57,
   "metadata": {},
   "outputs": [
    {
     "name": "stdout",
     "output_type": "stream",
     "text": [
      "10000/10000 [==============================] - 1s 103us/step\n",
      "0.9872\n",
      "60000/60000 [==============================] - 6s 99us/step\n",
      "0.9873333333333333\n"
     ]
    }
   ],
   "source": [
    "scores_shallow_test = model_shallow.evaluate(Test,Test_label)\n",
    "print(scores_shallow_test[1])\n",
    "scores_shallow_train = model_shallow.evaluate(Train,Train_label)\n",
    "print(scores_shallow_train[1])"
   ]
  },
  {
   "cell_type": "code",
   "execution_count": 64,
   "metadata": {},
   "outputs": [
    {
     "name": "stdout",
     "output_type": "stream",
     "text": [
      "predict     0     1     2     3     4     5     6     7     8     9\n",
      "label                                                              \n",
      "0        5888     1     1     2     1     0    21     0     7     2\n",
      "1           0  6681    34     2     3     0     2    11     9     0\n",
      "2           5     5  5892    17     4     0     1    16    14     4\n",
      "3           2     0    22  6041     0    22     0    21    13    10\n",
      "4           2     8     5     0  5757     0    13     4     4    49\n",
      "5           6     0     1    20     0  5342    26     0    18     8\n",
      "6           7     5     1     1     4    10  5876     0    14     0\n",
      "7           1     9    21     8     6     1     0  6203     2    14\n",
      "8          10    18    14     8     5    20    13     7  5732    24\n",
      "9          12     5     2     8    22    18     1    35    18  5828\n",
      "predict    0     1     2    3    4    5    6     7    8    9\n",
      "label                                                       \n",
      "0        974     0     0    0    0    0    3     1    2    0\n",
      "1          0  1130     2    1    0    0    0     0    1    1\n",
      "2          3     0  1023    1    0    0    0     2    3    0\n",
      "3          0     0     0  999    0    6    0     3    2    0\n",
      "4          0     1     1    0  966    0    3     0    1   10\n",
      "5          2     0     0    3    0  884    2     0    0    1\n",
      "6          6     2     0    0    1    3  945     0    1    0\n",
      "7          1     2     8    1    0    1    0  1010    1    4\n",
      "8          4     0     3    1    1    2    1     1  956    5\n",
      "9          2     4     0    1    4    6    0     5    2  985\n"
     ]
    }
   ],
   "source": [
    "df_confusion_train = pd.crosstab(origin_Train,prediction_shallow_train,rownames=['label'],colnames=['predict'])\n",
    "print(df_confusion_train)\n",
    "df_confusion_train = pd.crosstab(origin_Test,prediction_shallow_test,rownames=['label'],colnames=['predict'])\n",
    "print(df_confusion_train)"
   ]
  },
  {
   "cell_type": "markdown",
   "metadata": {},
   "source": [
    "## 深層CNN"
   ]
  },
  {
   "cell_type": "code",
   "execution_count": 83,
   "metadata": {},
   "outputs": [
    {
     "name": "stdout",
     "output_type": "stream",
     "text": [
      "_________________________________________________________________\n",
      "Layer (type)                 Output Shape              Param #   \n",
      "=================================================================\n",
      "conv2d_126 (Conv2D)          (None, 28, 28, 12)        600       \n",
      "_________________________________________________________________\n",
      "dropout_132 (Dropout)        (None, 28, 28, 12)        0         \n",
      "_________________________________________________________________\n",
      "conv2d_127 (Conv2D)          (None, 28, 28, 20)        11780     \n",
      "_________________________________________________________________\n",
      "max_pooling2d_58 (MaxPooling (None, 14, 14, 20)        0         \n",
      "_________________________________________________________________\n",
      "dropout_133 (Dropout)        (None, 14, 14, 20)        0         \n",
      "_________________________________________________________________\n",
      "conv2d_128 (Conv2D)          (None, 14, 14, 20)        10020     \n",
      "_________________________________________________________________\n",
      "dropout_134 (Dropout)        (None, 14, 14, 20)        0         \n",
      "_________________________________________________________________\n",
      "conv2d_129 (Conv2D)          (None, 14, 14, 20)        10020     \n",
      "_________________________________________________________________\n",
      "dropout_135 (Dropout)        (None, 14, 14, 20)        0         \n",
      "_________________________________________________________________\n",
      "conv2d_130 (Conv2D)          (None, 14, 14, 20)        3620      \n",
      "_________________________________________________________________\n",
      "dropout_136 (Dropout)        (None, 14, 14, 20)        0         \n",
      "_________________________________________________________________\n",
      "conv2d_131 (Conv2D)          (None, 14, 14, 20)        3620      \n",
      "_________________________________________________________________\n",
      "dropout_137 (Dropout)        (None, 14, 14, 20)        0         \n",
      "_________________________________________________________________\n",
      "conv2d_132 (Conv2D)          (None, 14, 14, 20)        3620      \n",
      "_________________________________________________________________\n",
      "dropout_138 (Dropout)        (None, 14, 14, 20)        0         \n",
      "_________________________________________________________________\n",
      "conv2d_133 (Conv2D)          (None, 14, 14, 20)        3620      \n",
      "_________________________________________________________________\n",
      "dropout_139 (Dropout)        (None, 14, 14, 20)        0         \n",
      "_________________________________________________________________\n",
      "conv2d_134 (Conv2D)          (None, 14, 14, 20)        3620      \n",
      "_________________________________________________________________\n",
      "dropout_140 (Dropout)        (None, 14, 14, 20)        0         \n",
      "_________________________________________________________________\n",
      "conv2d_135 (Conv2D)          (None, 14, 14, 20)        3620      \n",
      "_________________________________________________________________\n",
      "dropout_141 (Dropout)        (None, 14, 14, 20)        0         \n",
      "_________________________________________________________________\n",
      "flatten_12 (Flatten)         (None, 3920)              0         \n",
      "_________________________________________________________________\n",
      "dense_34 (Dense)             (None, 64)                250944    \n",
      "_________________________________________________________________\n",
      "dropout_142 (Dropout)        (None, 64)                0         \n",
      "_________________________________________________________________\n",
      "dense_35 (Dense)             (None, 128)               8320      \n",
      "_________________________________________________________________\n",
      "dropout_143 (Dropout)        (None, 128)               0         \n",
      "_________________________________________________________________\n",
      "dense_36 (Dense)             (None, 10)                1290      \n",
      "=================================================================\n",
      "Total params: 314,694\n",
      "Trainable params: 314,694\n",
      "Non-trainable params: 0\n",
      "_________________________________________________________________\n"
     ]
    }
   ],
   "source": [
    "model_deep = Sequential()\n",
    "model_deep.add(Conv2D(filters=12,kernel_size=(7,7),padding='same',input_shape=(28,28,1),activation='relu'))\n",
    "model_deep.add(Dropout(0.5))\n",
    "model_deep.add(Conv2D(filters=20,kernel_size=(7,7),padding='same',activation='relu'))\n",
    "model_deep.add(MaxPooling2D(pool_size=(2,2)))\n",
    "model_deep.add(Dropout(0.5))\n",
    "model_deep.add(Conv2D(filters=20,kernel_size=(5,5),padding='same',activation='relu'))\n",
    "model_deep.add(Dropout(0.5))\n",
    "model_deep.add(Conv2D(filters=20,kernel_size=(5,5),padding='same',activation='relu'))\n",
    "model_deep.add(Dropout(0.5))\n",
    "model_deep.add(Conv2D(filters=20,kernel_size=(3,3),padding='same',activation='relu'))\n",
    "model_deep.add(Dropout(0.5))\n",
    "model_deep.add(Conv2D(filters=20,kernel_size=(3,3),padding='same',activation='relu'))\n",
    "model_deep.add(Dropout(0.5))\n",
    "model_deep.add(Conv2D(filters=20,kernel_size=(3,3),padding='same',activation='relu'))\n",
    "model_deep.add(Dropout(0.5))\n",
    "model_deep.add(Conv2D(filters=20,kernel_size=(3,3),padding='same',activation='relu'))\n",
    "model_deep.add(Dropout(0.5))\n",
    "model_deep.add(Conv2D(filters=20,kernel_size=(3,3),padding='same',activation='relu'))\n",
    "model_deep.add(Dropout(0.5))\n",
    "model_deep.add(Conv2D(filters=20,kernel_size=(3,3),padding='same',activation='relu'))\n",
    "model_deep.add(Dropout(0.5))\n",
    "####################################加入FCN\n",
    "model_deep.add(Flatten())\n",
    "model_deep.add(Dense(units=64,activation='relu'))\n",
    "model_deep.add(Dropout(0.5))\n",
    "model_deep.add(Dense(units=128,activation='relu'))\n",
    "model_deep.add(Dropout(0.5))\n",
    "#################################### Output layer\n",
    "model_deep.add(Dense(units=10,activation='softmax'))\n",
    "model_deep.compile(loss='categorical_crossentropy',optimizer='adam',metrics=['accuracy'])\n",
    "model_deep.summary()"
   ]
  },
  {
   "cell_type": "code",
   "execution_count": 84,
   "metadata": {},
   "outputs": [
    {
     "name": "stdout",
     "output_type": "stream",
     "text": [
      "Train on 60000 samples, validate on 10000 samples\n",
      "Epoch 1/10\n",
      "60000/60000 [==============================] - 24s 394us/step - loss: 1.4077 - acc: 0.5053 - val_loss: 3.1484 - val_acc: 0.2642 ET\n",
      "Epoch 2/10\n",
      "60000/60000 [==============================] - 22s 373us/step - loss: 0.4834 - acc: 0.8620 - val_loss: 1.6358 - val_acc: 0.5598\n",
      "Epoch 3/10\n",
      "60000/60000 [==============================] - 22s 372us/step - loss: 0.3451 - acc: 0.9051 - val_loss: 0.6427 - val_acc: 0.7993\n",
      "Epoch 4/10\n",
      "60000/60000 [==============================] - 22s 372us/step - loss: 0.2874 - acc: 0.9205 - val_loss: 0.6312 - val_acc: 0.8157A: 8s - loss: 0.2999 - acc: 0.91 - ETA: 8s - loss: 0.299\n",
      "Epoch 5/10\n",
      "60000/60000 [==============================] - 22s 372us/step - loss: 0.2542 - acc: 0.9313 - val_loss: 1.0751 - val_acc: 0.6593loss: 0.2546 - acc:  - ETA: 2s - loss: 0.2551 - acc: 0.931 - ETA: 2s - loss: 0.2552 - acc: 0. - ETA: 2s - loss: 0.2556 - acc - ETA: 1s - loss: 0.\n",
      "Epoch 6/10\n",
      "60000/60000 [==============================] - 23s 384us/step - loss: 0.2296 - acc: 0.9391 - val_loss: 0.5458 - val_acc: 0.8316\n",
      "Epoch 7/10\n",
      "60000/60000 [==============================] - 23s 380us/step - loss: 0.2116 - acc: 0.9430 - val_loss: 0.4463 - val_acc: 0.8682\n",
      "Epoch 8/10\n",
      "60000/60000 [==============================] - 22s 372us/step - loss: 0.2008 - acc: 0.9458 - val_loss: 0.1902 - val_acc: 0.9478\n",
      "Epoch 9/10\n",
      "60000/60000 [==============================] - 22s 372us/step - loss: 0.1938 - acc: 0.9490 - val_loss: 0.1503 - val_acc: 0.9597s: 0.1960 - acc: 0.948 - ETA: 9s - - ETA: 6s - loss: 0.1985 - acc: 0 - ETA: 6s - loss: 0.1988 - ETA: 5s - loss: 0.1973 - ETA: 0s - loss: 0.1939 - acc: 0.9\n",
      "Epoch 10/10\n",
      "60000/60000 [==============================] - 22s 374us/step - loss: 0.1836 - acc: 0.9503 - val_loss: 0.1589 - val_acc: 0.9599- acc: - ETA:  - ETA: 2s - loss: 0.1840 -  - ETA: 1s - loss: 0.1845 - acc:  - ETA: 0s - loss: 0.1841 - acc: 0.9 - ETA: 0s - loss: 0.1841 - acc\n"
     ]
    }
   ],
   "source": [
    "train_deep=model_deep.fit(x=Train, y=Train_label, validation_data=(Test, Test_label), validation_split=0.2, epochs=10, batch_size=128, verbose=1)"
   ]
  },
  {
   "cell_type": "code",
   "execution_count": 85,
   "metadata": {},
   "outputs": [
    {
     "data": {
      "image/png": "[encoded data removed]",
      "text/plain": [
       "<Figure size 432x288 with 1 Axes>"
      ]
     },
     "metadata": {},
     "output_type": "display_data"
    },
    {
     "data": {
      "image/png": "[encoded data removed]",
      "text/plain": [
       "<Figure size 432x288 with 1 Axes>"
      ]
     },
     "metadata": {},
     "output_type": "display_data"
    }
   ],
   "source": [
    "show_train_history(train_deep,'acc','val_acc')\n",
    "show_train_history(train_deep,'loss','val_loss')"
   ]
  },
  {
   "cell_type": "code",
   "execution_count": 86,
   "metadata": {},
   "outputs": [
    {
     "name": "stdout",
     "output_type": "stream",
     "text": [
      "10000/10000 [==============================] - 2s 222us/step\n",
      "0.9599\n",
      "60000/60000 [==============================] - 12s 207us/step\n",
      "0.9565\n"
     ]
    }
   ],
   "source": [
    "prediction_deep_test = model_deep.predict_classes(Test)\n",
    "prediction_deep_train = model_deep.predict_classes(Train)\n",
    "scores_deep_test = model_deep.evaluate(Test,Test_label)\n",
    "print(scores_deep_test[1])\n",
    "scores_deep_train = model_deep.evaluate(Train,Train_label)\n",
    "print(scores_deep_train[1])"
   ]
  },
  {
   "cell_type": "code",
   "execution_count": 87,
   "metadata": {},
   "outputs": [
    {
     "name": "stdout",
     "output_type": "stream",
     "text": [
      "predict     0     1     2     3     4     5     6     7     8     9\n",
      "label                                                              \n",
      "0        5869    41     0     0     1     0     9     0     0     3\n",
      "1           0  6735     5     0     2     0     0     0     0     0\n",
      "2          57   340  5340     5    87     0     4    83    36     6\n",
      "3           8    70    62  5786     6    26     1    81    59    32\n",
      "4           0    53     0     0  5758     0     2     1     0    28\n",
      "5          18    26     1     6    43  5006    97     5    89   130\n",
      "6          61    76     0     0    40     0  5734     0     7     0\n",
      "7           2   217     5     1     8     0     0  6011     1    20\n",
      "8          27   267     2     0    31     2    32     8  5431    51\n",
      "9          10    41     0     0   132     0     0    32    14  5720\n",
      "predict    0     1    2    3    4    5    6    7    8    9\n",
      "label                                                     \n",
      "0        976     2    0    0    0    0    2    0    0    0\n",
      "1          0  1132    1    0    1    0    1    0    0    0\n",
      "2         14    57  927    1   13    0    0   16    3    1\n",
      "3          1     2    6  965    1    9    0   11   10    5\n",
      "4          0     9    0    0  968    0    0    0    0    5\n",
      "5          3     3    0    3    5  840   11    1    6   20\n",
      "6         19     9    0    0   10    0  920    0    0    0\n",
      "7          1    51    0    0    0    0    0  976    0    0\n",
      "8          7    23    0    0    6    0    3    2  922   11\n",
      "9          1    12    0    0   17    0    0    4    2  973\n"
     ]
    }
   ],
   "source": [
    "df_confusion_train = pd.crosstab(origin_Train,prediction_deep_train,rownames=['label'],colnames=['predict'])\n",
    "print(df_confusion_train)\n",
    "df_confusion_train = pd.crosstab(origin_Test,prediction_deep_test,rownames=['label'],colnames=['predict'])\n",
    "print(df_confusion_train)"
   ]
  },
  {
   "cell_type": "markdown",
   "metadata": {},
   "source": [
    "## 沒有FCN"
   ]
  },
  {
   "cell_type": "code",
   "execution_count": 90,
   "metadata": {},
   "outputs": [
    {
     "name": "stdout",
     "output_type": "stream",
     "text": [
      "_________________________________________________________________\n",
      "Layer (type)                 Output Shape              Param #   \n",
      "=================================================================\n",
      "conv2d_138 (Conv2D)          (None, 28, 28, 12)        600       \n",
      "_________________________________________________________________\n",
      "dropout_146 (Dropout)        (None, 28, 28, 12)        0         \n",
      "_________________________________________________________________\n",
      "conv2d_139 (Conv2D)          (None, 28, 28, 20)        11780     \n",
      "_________________________________________________________________\n",
      "max_pooling2d_60 (MaxPooling (None, 14, 14, 20)        0         \n",
      "_________________________________________________________________\n",
      "dropout_147 (Dropout)        (None, 14, 14, 20)        0         \n",
      "_________________________________________________________________\n",
      "flatten_13 (Flatten)         (None, 3920)              0         \n",
      "_________________________________________________________________\n",
      "dense_38 (Dense)             (None, 10)                39210     \n",
      "=================================================================\n",
      "Total params: 51,590\n",
      "Trainable params: 51,590\n",
      "Non-trainable params: 0\n",
      "_________________________________________________________________\n"
     ]
    }
   ],
   "source": [
    "model_CNN = Sequential()\n",
    "model_CNN.add(Conv2D(filters=12,kernel_size=(7,7),padding='same',input_shape=(28,28,1),activation='relu'))\n",
    "model_CNN.add(Dropout(0.5))\n",
    "model_CNN.add(Conv2D(filters=20,kernel_size=(7,7),padding='same',activation='relu'))\n",
    "model_CNN.add(MaxPooling2D(pool_size=(2,2)))\n",
    "model_CNN.add(Dropout(0.5))\n",
    "model_CNN.add(Flatten())\n",
    "#################################### Output layer\n",
    "model_CNN.add(Dense(units=10,activation='softmax'))\n",
    "model_CNN.compile(loss='categorical_crossentropy',optimizer='adam',metrics=['accuracy'])\n",
    "model_CNN.summary()"
   ]
  },
  {
   "cell_type": "code",
   "execution_count": 91,
   "metadata": {},
   "outputs": [
    {
     "name": "stdout",
     "output_type": "stream",
     "text": [
      "Train on 60000 samples, validate on 10000 samples\n",
      "Epoch 1/15\n",
      "60000/60000 [==============================] - 13s 215us/step - loss: 0.3208 - acc: 0.9034 - val_loss: 0.0860 - val_acc: 0.9780\n",
      "Epoch 2/15\n",
      "60000/60000 [==============================] - 12s 197us/step - loss: 0.1057 - acc: 0.9679 - val_loss: 0.0526 - val_acc: 0.9831\n",
      "Epoch 3/15\n",
      "60000/60000 [==============================] - 12s 202us/step - loss: 0.0814 - acc: 0.9750 - val_loss: 0.0385 - val_acc: 0.9875\n",
      "Epoch 4/15\n",
      "60000/60000 [==============================] - 12s 197us/step - loss: 0.0668 - acc: 0.9798 - val_loss: 0.0359 - val_acc: 0.9896\n",
      "Epoch 5/15\n",
      "60000/60000 [==============================] - 12s 197us/step - loss: 0.0586 - acc: 0.9813 - val_loss: 0.0328 - val_acc: 0.9895\n",
      "Epoch 6/15\n",
      "60000/60000 [==============================] - 12s 197us/step - loss: 0.0538 - acc: 0.9832 - val_loss: 0.0298 - val_acc: 0.9894\n",
      "Epoch 7/15\n",
      "60000/60000 [==============================] - 12s 194us/step - loss: 0.0512 - acc: 0.9837 - val_loss: 0.0280 - val_acc: 0.9903\n",
      "Epoch 8/15\n",
      "60000/60000 [==============================] - 12s 196us/step - loss: 0.0474 - acc: 0.9849 - val_loss: 0.0324 - val_acc: 0.9895\n",
      "Epoch 9/15\n",
      "60000/60000 [==============================] - 12s 200us/step - loss: 0.0450 - acc: 0.9861 - val_loss: 0.0282 - val_acc: 0.9897\n",
      "Epoch 10/15\n",
      "60000/60000 [==============================] - 12s 203us/step - loss: 0.0421 - acc: 0.9865 - val_loss: 0.0279 - val_acc: 0.9906\n",
      "Epoch 11/15\n",
      "60000/60000 [==============================] - 12s 194us/step - loss: 0.0425 - acc: 0.9868 - val_loss: 0.0264 - val_acc: 0.9911\n",
      "Epoch 12/15\n",
      "60000/60000 [==============================] - 12s 194us/step - loss: 0.0373 - acc: 0.9880 - val_loss: 0.0264 - val_acc: 0.9916\n",
      "Epoch 13/15\n",
      "60000/60000 [==============================] - 12s 198us/step - loss: 0.0387 - acc: 0.9873 - val_loss: 0.0257 - val_acc: 0.9922\n",
      "Epoch 14/15\n",
      "60000/60000 [==============================] - 12s 196us/step - loss: 0.0358 - acc: 0.9879 - val_loss: 0.0296 - val_acc: 0.9906\n",
      "Epoch 15/15\n",
      "60000/60000 [==============================] - 12s 197us/step - loss: 0.0353 - acc: 0.9887 - val_loss: 0.0235 - val_acc: 0.9923\n"
     ]
    }
   ],
   "source": [
    "train_CNN=model_CNN.fit(x=Train, y=Train_label, validation_data=(Test, Test_label), validation_split=0.2, epochs=15, batch_size=128, verbose=1)"
   ]
  },
  {
   "cell_type": "code",
   "execution_count": 92,
   "metadata": {},
   "outputs": [
    {
     "data": {
      "image/png": "[encoded data removed]",
      "text/plain": [
       "<Figure size 432x288 with 1 Axes>"
      ]
     },
     "metadata": {},
     "output_type": "display_data"
    },
    {
     "data": {
      "image/png": "[encoded data removed]",
      "text/plain": [
       "<Figure size 432x288 with 1 Axes>"
      ]
     },
     "metadata": {},
     "output_type": "display_data"
    }
   ],
   "source": [
    "show_train_history(train_CNN,'acc','val_acc')\n",
    "show_train_history(train_CNN,'loss','val_loss')"
   ]
  },
  {
   "cell_type": "code",
   "execution_count": 93,
   "metadata": {},
   "outputs": [
    {
     "name": "stdout",
     "output_type": "stream",
     "text": [
      "10000/10000 [==============================] - 2s 174us/step\n",
      "0.9923\n",
      "60000/60000 [==============================] - 9s 157us/step\n",
      "0.99535\n"
     ]
    }
   ],
   "source": [
    "prediction_CNN_test = model_CNN.predict_classes(Test)\n",
    "prediction_CNN_train = model_CNN.predict_classes(Train)\n",
    "scores_CNN_test = model_CNN.evaluate(Test,Test_label)\n",
    "print(scores_CNN_test[1])\n",
    "scores_CNN_train = model_CNN.evaluate(Train,Train_label)\n",
    "print(scores_CNN_train[1])"
   ]
  },
  {
   "cell_type": "code",
   "execution_count": 94,
   "metadata": {
    "scrolled": true
   },
   "outputs": [
    {
     "name": "stdout",
     "output_type": "stream",
     "text": [
      "predict     0     1     2     3     4     5     6     7     8     9\n",
      "label                                                              \n",
      "0        5905     0     1     0     0     0    13     0     1     3\n",
      "1           0  6731     2     0     1     0     3     5     0     0\n",
      "2           0     3  5943     1     1     0     2     5     0     3\n",
      "3           0     0    10  6103     0     4     0     2     4     8\n",
      "4           0     3     0     0  5822     0     3     1     0    13\n",
      "5           1     0     0     7     1  5379    20     0    10     3\n",
      "6           3     0     0     0     1     0  5914     0     0     0\n",
      "7           0     8     8     2     6     0     0  6222     1    18\n",
      "8           5    12     8     4     6     0     9     1  5781    25\n",
      "9           2     1     0     1     9     3     2     7     3  5921\n",
      "predict    0     1     2     3    4    5    6     7    8     9\n",
      "label                                                         \n",
      "0        976     0     0     0    0    0    2     0    1     1\n",
      "1          0  1131     2     0    1    0    1     0    0     0\n",
      "2          1     2  1025     0    1    0    0     2    1     0\n",
      "3          1     0     1  1005    0    2    0     0    1     0\n",
      "4          0     0     0     0  977    0    1     0    0     4\n",
      "5          1     0     0     4    0  884    1     0    0     2\n",
      "6          2     2     0     1    1    1  950     0    1     0\n",
      "7          0     2     3     2    0    0    0  1016    1     4\n",
      "8          3     0     3     1    1    1    1     0  959     5\n",
      "9          0     1     0     0    4    2    0     0    2  1000\n"
     ]
    }
   ],
   "source": [
    "df_confusion_train = pd.crosstab(origin_Train,prediction_CNN_train,rownames=['label'],colnames=['predict'])\n",
    "print(df_confusion_train)\n",
    "df_confusion_train = pd.crosstab(origin_Test,prediction_CNN_test,rownames=['label'],colnames=['predict'])\n",
    "print(df_confusion_train)"
   ]
  },
  {
   "cell_type": "markdown",
   "metadata": {},
   "source": [
    "## 多層FCN"
   ]
  },
  {
   "cell_type": "code",
   "execution_count": 96,
   "metadata": {},
   "outputs": [
    {
     "name": "stdout",
     "output_type": "stream",
     "text": [
      "_________________________________________________________________\n",
      "Layer (type)                 Output Shape              Param #   \n",
      "=================================================================\n",
      "conv2d_142 (Conv2D)          (None, 28, 28, 12)        600       \n",
      "_________________________________________________________________\n",
      "dropout_160 (Dropout)        (None, 28, 28, 12)        0         \n",
      "_________________________________________________________________\n",
      "conv2d_143 (Conv2D)          (None, 28, 28, 20)        11780     \n",
      "_________________________________________________________________\n",
      "max_pooling2d_62 (MaxPooling (None, 14, 14, 20)        0         \n",
      "_________________________________________________________________\n",
      "dropout_161 (Dropout)        (None, 14, 14, 20)        0         \n",
      "_________________________________________________________________\n",
      "flatten_15 (Flatten)         (None, 3920)              0         \n",
      "_________________________________________________________________\n",
      "dense_50 (Dense)             (None, 200)               784200    \n",
      "_________________________________________________________________\n",
      "dropout_162 (Dropout)        (None, 200)               0         \n",
      "_________________________________________________________________\n",
      "dense_51 (Dense)             (None, 200)               40200     \n",
      "_________________________________________________________________\n",
      "dropout_163 (Dropout)        (None, 200)               0         \n",
      "_________________________________________________________________\n",
      "dense_52 (Dense)             (None, 200)               40200     \n",
      "_________________________________________________________________\n",
      "dropout_164 (Dropout)        (None, 200)               0         \n",
      "_________________________________________________________________\n",
      "dense_53 (Dense)             (None, 200)               40200     \n",
      "_________________________________________________________________\n",
      "dropout_165 (Dropout)        (None, 200)               0         \n",
      "_________________________________________________________________\n",
      "dense_54 (Dense)             (None, 200)               40200     \n",
      "_________________________________________________________________\n",
      "dropout_166 (Dropout)        (None, 200)               0         \n",
      "_________________________________________________________________\n",
      "dense_55 (Dense)             (None, 200)               40200     \n",
      "_________________________________________________________________\n",
      "dropout_167 (Dropout)        (None, 200)               0         \n",
      "_________________________________________________________________\n",
      "dense_56 (Dense)             (None, 200)               40200     \n",
      "_________________________________________________________________\n",
      "dropout_168 (Dropout)        (None, 200)               0         \n",
      "_________________________________________________________________\n",
      "dense_57 (Dense)             (None, 200)               40200     \n",
      "_________________________________________________________________\n",
      "dropout_169 (Dropout)        (None, 200)               0         \n",
      "_________________________________________________________________\n",
      "dense_58 (Dense)             (None, 200)               40200     \n",
      "_________________________________________________________________\n",
      "dropout_170 (Dropout)        (None, 200)               0         \n",
      "_________________________________________________________________\n",
      "dense_59 (Dense)             (None, 200)               40200     \n",
      "_________________________________________________________________\n",
      "dropout_171 (Dropout)        (None, 200)               0         \n",
      "_________________________________________________________________\n",
      "dense_60 (Dense)             (None, 10)                2010      \n",
      "=================================================================\n",
      "Total params: 1,160,390\n",
      "Trainable params: 1,160,390\n",
      "Non-trainable params: 0\n",
      "_________________________________________________________________\n"
     ]
    }
   ],
   "source": [
    "model_FCN = Sequential()\n",
    "model_FCN.add(Conv2D(filters=12,kernel_size=(7,7),padding='same',input_shape=(28,28,1),activation='relu'))\n",
    "model_FCN.add(Dropout(0.5))\n",
    "model_FCN.add(Conv2D(filters=20,kernel_size=(7,7),padding='same',activation='relu'))\n",
    "model_FCN.add(MaxPooling2D(pool_size=(2,2)))\n",
    "model_FCN.add(Dropout(0.5))\n",
    "model_FCN.add(Flatten())\n",
    "####################################加入FCN\n",
    "model_FCN.add(Dense(units=200,activation='relu'))\n",
    "model_FCN.add(Dropout(0.5))\n",
    "model_FCN.add(Dense(units=200,activation='relu'))\n",
    "model_FCN.add(Dropout(0.5))\n",
    "model_FCN.add(Dense(units=200,activation='relu'))\n",
    "model_FCN.add(Dropout(0.5))\n",
    "model_FCN.add(Dense(units=200,activation='relu'))\n",
    "model_FCN.add(Dropout(0.5))\n",
    "model_FCN.add(Dense(units=200,activation='relu'))\n",
    "model_FCN.add(Dropout(0.5))\n",
    "model_FCN.add(Dense(units=200,activation='relu'))\n",
    "model_FCN.add(Dropout(0.5))\n",
    "model_FCN.add(Dense(units=200,activation='relu'))\n",
    "model_FCN.add(Dropout(0.5))\n",
    "model_FCN.add(Dense(units=200,activation='relu'))\n",
    "model_FCN.add(Dropout(0.5))\n",
    "model_FCN.add(Dense(units=200,activation='relu'))\n",
    "model_FCN.add(Dropout(0.5))\n",
    "model_FCN.add(Dense(units=200,activation='relu'))\n",
    "model_FCN.add(Dropout(0.5))\n",
    "#################################### Output layer\n",
    "model_FCN.add(Dense(units=10,activation='softmax'))\n",
    "model_FCN.compile(loss='categorical_crossentropy',optimizer='adam',metrics=['accuracy'])\n",
    "model_FCN.summary()"
   ]
  },
  {
   "cell_type": "code",
   "execution_count": 97,
   "metadata": {},
   "outputs": [
    {
     "name": "stdout",
     "output_type": "stream",
     "text": [
      "Train on 60000 samples, validate on 10000 samples\n",
      "Epoch 1/15\n",
      "60000/60000 [==============================] - 16s 268us/step - loss: 1.8544 - acc: 0.2630 - val_loss: 2.0111 - val_acc: 0.2199\n",
      "Epoch 2/15\n",
      "60000/60000 [==============================] - 15s 244us/step - loss: 1.2691 - acc: 0.4322 - val_loss: 1.7457 - val_acc: 0.2227\n",
      "Epoch 3/15\n",
      "60000/60000 [==============================] - 15s 245us/step - loss: 1.1419 - acc: 0.4721 - val_loss: 2.4118 - val_acc: 0.2598\n",
      "Epoch 4/15\n",
      "60000/60000 [==============================] - 15s 246us/step - loss: 1.0676 - acc: 0.4976 - val_loss: 1.3578 - val_acc: 0.3684acc: 0\n",
      "Epoch 5/15\n",
      "60000/60000 [==============================] - 15s 246us/step - loss: 0.9876 - acc: 0.5422 - val_loss: 0.9419 - val_acc: 0.5236s - loss: 0.9898 - acc: 0\n",
      "Epoch 6/15\n",
      "60000/60000 [==============================] - 15s 249us/step - loss: 0.8295 - acc: 0.6617 - val_loss: 0.7788 - val_acc: 0.7131\n",
      "Epoch 7/15\n",
      "60000/60000 [==============================] - 14s 239us/step - loss: 0.7130 - acc: 0.7200 - val_loss: 0.7156 - val_acc: 0.7394\n",
      "Epoch 8/15\n",
      "60000/60000 [==============================] - 15s 245us/step - loss: 0.6792 - acc: 0.7357 - val_loss: 0.6324 - val_acc: 0.7607\n",
      "Epoch 9/15\n",
      "60000/60000 [==============================] - 15s 256us/step - loss: 0.6462 - acc: 0.7473 - val_loss: 0.6141 - val_acc: 0.7696\n",
      "Epoch 10/15\n",
      "60000/60000 [==============================] - 15s 247us/step - loss: 0.6255 - acc: 0.7510 - val_loss: 0.5560 - val_acc: 0.7810\n",
      "Epoch 11/15\n",
      "60000/60000 [==============================] - 15s 254us/step - loss: 0.6176 - acc: 0.7529 - val_loss: 0.5332 - val_acc: 0.7799\n",
      "Epoch 12/15\n",
      "60000/60000 [==============================] - 15s 248us/step - loss: 0.6214 - acc: 0.7545 - val_loss: 0.5492 - val_acc: 0.7851\n",
      "Epoch 13/15\n",
      "60000/60000 [==============================] - 14s 240us/step - loss: 0.6023 - acc: 0.7772 - val_loss: 0.5096 - val_acc: 0.8385\n",
      "Epoch 14/15\n",
      "60000/60000 [==============================] - 15s 246us/step - loss: 0.5286 - acc: 0.8199 - val_loss: 0.3524 - val_acc: 0.8715\n",
      "Epoch 15/15\n",
      "60000/60000 [==============================] - 15s 247us/step - loss: 0.4815 - acc: 0.8368 - val_loss: 0.3837 - val_acc: 0.8764\n"
     ]
    }
   ],
   "source": [
    "train_FCN=model_FCN.fit(x=Train, y=Train_label, validation_data=(Test, Test_label), validation_split=0.2, epochs=15, batch_size=128, verbose=1)"
   ]
  },
  {
   "cell_type": "code",
   "execution_count": 98,
   "metadata": {},
   "outputs": [
    {
     "data": {
      "image/png": "[encoded data removed]",
      "text/plain": [
       "<Figure size 432x288 with 1 Axes>"
      ]
     },
     "metadata": {},
     "output_type": "display_data"
    },
    {
     "data": {
      "image/png": "[encoded data removed]",
      "text/plain": [
       "<Figure size 432x288 with 1 Axes>"
      ]
     },
     "metadata": {},
     "output_type": "display_data"
    }
   ],
   "source": [
    "show_train_history(train_FCN,'acc','val_acc')\n",
    "show_train_history(train_FCN,'loss','val_loss')"
   ]
  },
  {
   "cell_type": "code",
   "execution_count": 99,
   "metadata": {},
   "outputs": [
    {
     "name": "stdout",
     "output_type": "stream",
     "text": [
      "10000/10000 [==============================] - 2s 166us/step\n",
      "0.8764\n",
      "60000/60000 [==============================] - 10s 174us/step\n",
      "0.8745166666666667\n"
     ]
    }
   ],
   "source": [
    "prediction_FCN_test = model_FCN.predict_classes(Test)\n",
    "prediction_FCN_train = model_FCN.predict_classes(Train)\n",
    "scores_FCN_test = model_FCN.evaluate(Test,Test_label)\n",
    "print(scores_FCN_test[1])\n",
    "scores_FCN_train = model_FCN.evaluate(Train,Train_label)\n",
    "print(scores_FCN_train[1])"
   ]
  },
  {
   "cell_type": "code",
   "execution_count": 100,
   "metadata": {},
   "outputs": [
    {
     "name": "stdout",
     "output_type": "stream",
     "text": [
      "predict     0     1     2     3    4     5     6     7     8     9\n",
      "label                                                             \n",
      "0        5727     2     1     0    1     0   191     0     1     0\n",
      "1           0  6668     8     5   13     0    10     3    16    19\n",
      "2           0    48  5702    92    3     0    20    31    32    30\n",
      "3           0    40    13  5776    0     4     6     9   265    18\n",
      "4           0  5613     0     0  151     0    39     1     3    35\n",
      "5           1    22     1     8    2  5142    27     0   216     2\n",
      "6           2    76     0     0    0     0  5813     0    27     0\n",
      "7           1    18     3     5    4     0     0  6049     9   176\n",
      "8           1    82     4     0    9     2    23     1  5717    12\n",
      "9           4    35     0     0  105     2    18    19    40  5726\n",
      "predict    0     1    2    3   4    5    6    7    8    9\n",
      "label                                                    \n",
      "0        953     0    0    0   0    0   26    1    0    0\n",
      "1          0  1124    0    1   0    0    3    0    5    2\n",
      "2          1     6  992   15   0    0    4    6    3    5\n",
      "3          0     4    2  973   0    0    0    2   29    0\n",
      "4          0   946    0    0  24    0    6    0    0    6\n",
      "5          0     2    0    1   0  845    4    1   38    1\n",
      "6          0    13    0    0   0    0  940    0    5    0\n",
      "7          0     3    0    1   0    0    0  995    2   27\n",
      "8          1     7    1    0   1    0    7    0  956    1\n",
      "9          1    11    0    0  23    0    4    1    7  962\n"
     ]
    }
   ],
   "source": [
    "df_confusion_train = pd.crosstab(origin_Train,prediction_FCN_train,rownames=['label'],colnames=['predict'])\n",
    "print(df_confusion_train)\n",
    "df_confusion_train = pd.crosstab(origin_Test,prediction_FCN_test,rownames=['label'],colnames=['predict'])\n",
    "print(df_confusion_train)"
   ]
  },
  {
   "cell_type": "code",
   "execution_count": null,
   "metadata": {},
   "outputs": [],
   "source": []
  }
 ],
 "metadata": {
  "kernelspec": {
   "display_name": "Python 3",
   "language": "python",
   "name": "python3"
  },
  "language_info": {
   "codemirror_mode": {
    "name": "ipython",
    "version": 3
   },
   "file_extension": ".py",
   "mimetype": "text/x-python",
   "name": "python",
   "nbconvert_exporter": "python",
   "pygments_lexer": "ipython3",
   "version": "3.5.5"
  }
 },
 "nbformat": 4,
 "nbformat_minor": 2
}
